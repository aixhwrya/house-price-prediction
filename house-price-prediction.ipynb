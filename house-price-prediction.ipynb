{
 "cells": [
  {
   "cell_type": "markdown",
   "id": "491182ec",
   "metadata": {},
   "source": [
    "🏠 House Price Prediction using Machine Learning\n",
    "In this project, I explore the Kaggle housing dataset to predict house prices using regression techniques. I applied data preprocessing, feature engineering, and built a baseline model using Linear Regression. This notebook also includes analysis of missing values, encoding strategies, and performance evaluation.\n",
    "\n",
    "📌 Objective\n",
    "The goal is to predict the final sale price of homes in Ames, Iowa using various features such as area, neighborhood, and amenities. We aim to minimize the Root Mean Squared Error (RMSE) on the predictions.\n",
    "\n",
    "🧾 Dataset Overview\n",
    "The dataset includes 79 explanatory variables covering almost every aspect of residential homes. Key columns include:\n",
    "\n",
    "LotArea: Lot size in square feet\n",
    "GrLivArea: Above ground living area\n",
    "OverallQual: Overall material and finish quality\n",
    "YearBuilt: Original construction year\n",
    "SalePrice: Target variable (house price)\n",
    "The full description can be found in 'data_description.txt'.\n",
    "\n",
    "Correlation heatmap\n",
    "plt.figure(figsize=(12, 10)) corr = train.corr() sns.heatmap(corr['SalePrice'].sort_values(ascending=False).to_frame(), annot=True) plt.title(\"Feature Correlation with SalePrice\") plt.show()\n",
    "\n",
    "📉 Model Evaluation\n",
    "The Linear Regression model achieved an RMSE of XXXX. Although simple, it provides a good baseline. Further improvements can be achieved using:\n",
    "\n",
    "Ridge/Lasso regularization\n",
    "Random Forest / Gradient Boosting\n",
    "Hyperparameter tuning (GridSearchCV)\n",
    "✅ Conclusion\n",
    "Performed thorough data cleaning and feature engineering.\n",
    "Handled missing values strategically.\n",
    "Built a baseline model with Linear Regression.\n",
    "Used domain logic to create new features.\n",
    "🚀 Future Improvements:\n",
    "Apply ensemble models like XGBoost or LightGBM\n",
    "Perform hyperparameter optimization\n",
    "Explore feature selection techniques\n",
    "NEW FEATURE\n",
    "Create a feature for house age\n",
    "train['HouseAge'] = train['YrSold'] - train['YearBuilt'] test['HouseAge'] = test['YrSold'] - test['YearBuilt']\n",
    "\n",
    "I added a new feature HouseAge as I assumed the age of a house can affect its sale price."
   ]
  },
  {
   "cell_type": "markdown",
   "id": "fe819f35",
   "metadata": {},
   "source": [
    "# 📦 Imports"
   ]
  },
  {
   "cell_type": "code",
   "execution_count": null,
   "id": "a787d18c",
   "metadata": {
    "vscode": {
     "languageId": "plaintext"
    }
   },
   "outputs": [],
   "source": [
    "import pandas as pd\n",
    "import numpy as np\n",
    "import matplotlib.pyplot as plt\n",
    "import seaborn as sns\n",
    "from IPython.display import display\n",
    "\n",
    "from sklearn.model_selection import train_test_split\n",
    "from sklearn.preprocessing import StandardScaler\n",
    "from sklearn.linear_model import LinearRegression\n",
    "from sklearn.metrics import mean_squared_error"
   ]
  },
  {
   "cell_type": "markdown",
   "id": "6b796c5b",
   "metadata": {},
   "source": [
    "# 📥 Load Data"
   ]
  },
  {
   "cell_type": "code",
   "execution_count": null,
   "id": "508c06c4",
   "metadata": {
    "vscode": {
     "languageId": "plaintext"
    }
   },
   "outputs": [],
   "source": [
    "train = pd.read_csv('train.csv')\n",
    "test = pd.read_csv('test.csv')"
   ]
  },
  {
   "cell_type": "markdown",
   "id": "08cf8db2",
   "metadata": {},
   "source": [
    "# Show head"
   ]
  },
  {
   "cell_type": "code",
   "execution_count": null,
   "id": "95e6b50a",
   "metadata": {
    "vscode": {
     "languageId": "plaintext"
    }
   },
   "outputs": [],
   "source": [
    "display(train.head())"
   ]
  },
  {
   "cell_type": "markdown",
   "id": "075968c8",
   "metadata": {},
   "source": [
    "# 🧠 Data Overview\n"
   ]
  },
  {
   "cell_type": "code",
   "execution_count": null,
   "id": "cf091af0",
   "metadata": {
    "vscode": {
     "languageId": "plaintext"
    }
   },
   "outputs": [],
   "source": [
    "display(train.describe())\n",
    "display(train.info())"
   ]
  },
  {
   "cell_type": "markdown",
   "id": "b5a4fcae",
   "metadata": {},
   "source": [
    "# 🔍 Missing Values"
   ]
  },
  {
   "cell_type": "code",
   "execution_count": null,
   "id": "f442ff67",
   "metadata": {
    "vscode": {
     "languageId": "plaintext"
    }
   },
   "outputs": [],
   "source": [
    "missing = train.isnull().sum().sort_values(ascending=False)\n",
    "display(missing[missing > 0])"
   ]
  },
  {
   "cell_type": "markdown",
   "id": "a7b31160",
   "metadata": {},
   "source": [
    "# 🧹 Handle Missing"
   ]
  },
  {
   "cell_type": "code",
   "execution_count": null,
   "id": "fbe12503",
   "metadata": {
    "vscode": {
     "languageId": "plaintext"
    }
   },
   "outputs": [],
   "source": [
    "# 🔹 Fill numeric column 'LotFrontage' with median (no warning, no inplace)\n",
    "train['LotFrontage'] = train['LotFrontage'].fillna(train['LotFrontage'].median())\n",
    "test['LotFrontage'] = test['LotFrontage'].fillna(test['LotFrontage'].median())\n",
    "\n",
    "# 🔹 Drop columns with too many missing values\n",
    "cols_to_drop = ['Alley', 'PoolQC', 'Fence', 'MiscFeature', 'FireplaceQu']\n",
    "train = train.drop(columns=cols_to_drop)\n",
    "test = test.drop(columns=cols_to_drop)\n",
    "\n",
    "# 🔹 Fill remaining categorical columns with mode\n",
    "for col in train.select_dtypes(include='object'):\n",
    "    train[col] = train[col].fillna(train[col].mode()[0])\n",
    "\n",
    "for col in test.select_dtypes(include='object'):\n",
    "    test[col] = test[col].fillna(test[col].mode()[0])"
   ]
  },
  {
   "cell_type": "markdown",
   "id": "069483af",
   "metadata": {},
   "source": [
    "# Categorical nulls"
   ]
  },
  {
   "cell_type": "code",
   "execution_count": null,
   "id": "b4e2ed2d",
   "metadata": {
    "vscode": {
     "languageId": "plaintext"
    }
   },
   "outputs": [],
   "source": [
    "for col in train.select_dtypes(include='object'):\n",
    "    train[col].fillna(train[col].mode()[0], inplace=True)\n",
    "for col in test.select_dtypes(include='object'):\n",
    "    test[col].fillna(test[col].mode()[0], inplace=True)"
   ]
  },
  {
   "cell_type": "markdown",
   "id": "6ff0ad03",
   "metadata": {},
   "source": [
    "# 🛠 Feature Engineering"
   ]
  },
  {
   "cell_type": "code",
   "execution_count": null,
   "id": "190a0826",
   "metadata": {
    "vscode": {
     "languageId": "plaintext"
    }
   },
   "outputs": [],
   "source": [
    "train['TotalSF'] = train['TotalBsmtSF'] + train['1stFlrSF'] + train['2ndFlrSF']\n",
    "test['TotalSF'] = test['TotalBsmtSF'] + test['1stFlrSF'] + test['2ndFlrSF']\n",
    "\n",
    "train = pd.get_dummies(train)\n",
    "test = pd.get_dummies(test)\n",
    "train, test = train.align(test, join='left', axis=1, fill_value=0)"
   ]
  },
  {
   "cell_type": "markdown",
   "id": "2acee172",
   "metadata": {},
   "source": [
    "# 📊 Visual Check (with plt.show)"
   ]
  },
  {
   "cell_type": "code",
   "execution_count": null,
   "id": "5f330146",
   "metadata": {
    "vscode": {
     "languageId": "plaintext"
    }
   },
   "outputs": [],
   "source": [
    "plt.figure(figsize=(10,6))\n",
    "sns.histplot(train['SalePrice'], kde=True)\n",
    "plt.title(\"Distribution of House Prices\")\n",
    "plt.xlabel(\"Price\")\n",
    "plt.ylabel(\"Frequency\")\n",
    "plt.show()"
   ]
  },
  {
   "cell_type": "markdown",
   "id": "b682b273",
   "metadata": {},
   "source": [
    "# ⚙️ Prepare Data"
   ]
  },
  {
   "cell_type": "code",
   "execution_count": null,
   "id": "cb1919c2",
   "metadata": {
    "vscode": {
     "languageId": "plaintext"
    }
   },
   "outputs": [],
   "source": [
    "X = train.drop('SalePrice', axis=1)\n",
    "y = train['SalePrice']\n",
    "\n",
    "X_train, X_val, y_train, y_val = train_test_split(X, y, test_size=0.2, random_state=42)\n",
    "\n",
    "scaler = StandardScaler()\n",
    "X_train_scaled = scaler.fit_transform(X_train)\n",
    "X_val_scaled = scaler.transform(X_val)"
   ]
  },
  {
   "cell_type": "markdown",
   "id": "7852bc83",
   "metadata": {},
   "source": [
    "# 🤖 Train Model"
   ]
  },
  {
   "cell_type": "code",
   "execution_count": null,
   "id": "ec45b065",
   "metadata": {
    "vscode": {
     "languageId": "plaintext"
    }
   },
   "outputs": [],
   "source": [
    "from sklearn.linear_model import LinearRegression\n",
    "from sklearn.metrics import mean_squared_error\n",
    "\n",
    "# 🧠 Initialize and train the model\n",
    "model = LinearRegression()\n",
    "model.fit(X_train_scaled, y_train)\n",
    "\n",
    "# 🔮 Make predictions on validation set\n",
    "y_pred = model.predict(X_val_scaled)\n",
    "\n",
    "# 📏 Calculate Root Mean Squared Error (RMSE)\n",
    "rmse = mean_squared_error(y_val, y_pred, squared=False)\n",
    "\n",
    "print(f\"✅ Linear Regression RMSE on validation set: {rmse:.2f}\")"
   ]
  }
 ],
 "metadata": {
  "language_info": {
   "name": "python"
  }
 },
 "nbformat": 4,
 "nbformat_minor": 5
}
