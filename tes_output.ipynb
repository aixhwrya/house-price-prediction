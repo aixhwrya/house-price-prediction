{
 "cells": [
  {
   "cell_type": "markdown",
   "id": "675376ab",
   "metadata": {},
   "source": [
    "import pandas as pd\n",
    "import matplotlib.pyplot as plt\n",
    "from IPython.display import display\n",
    "\n",
    "# Create DataFrame\n",
    "df = pd.DataFrame({'x': [1, 2, 3], 'y': [10, 20, 30]})\n",
    "\n",
    "# Display table\n",
    "display(df)\n",
    "\n",
    "# Display plot\n",
    "plt.plot(df['x'], df['y'])\n",
    "plt.title(\"Simple Plot\")\n",
    "plt.show()\n"
   ]
  }
 ],
 "metadata": {
  "language_info": {
   "name": "python"
  }
 },
 "nbformat": 4,
 "nbformat_minor": 5
}
